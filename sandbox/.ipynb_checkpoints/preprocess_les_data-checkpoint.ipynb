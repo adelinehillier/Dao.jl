{
 "cells": [
  {
   "cell_type": "code",
   "execution_count": 13,
   "metadata": {},
   "outputs": [
    {
     "name": "stdout",
     "output_type": "stream",
     "text": [
      "\u001b[32m\u001b[1m  Updating\u001b[22m\u001b[39m registry at `~/.julia/registries/General`\n",
      "\u001b[32m\u001b[1m  Updating\u001b[22m\u001b[39m git-repo `https://github.com/JuliaRegistries/General.git`\n",
      "\u001b[2K\u001b[?25h"
     ]
    }
   ],
   "source": [
    "using Pkg; Pkg.activate(\"..\"); Pkg.instantiate()\n",
    "\n",
    "using OceanTurb, Printf, Plots, Distributions, Statistics, Random, NetCDF, JLD2"
   ]
  },
  {
   "cell_type": "code",
   "execution_count": 14,
   "metadata": {},
   "outputs": [
    {
     "data": {
      "text/plain": [
       "4-element Array{String,1}:\n",
       " \"free_convection_N128_k1e-4_Float64/convection_75.0_0.01_128_000003600.nc\"\n",
       " \"free_convection_N128_k1e-4_Float64/convection_75.0_0.01_128_000007200.nc\"\n",
       " \"free_convection_N128_k1e-4_Float64/convection_75.0_0.01_128_000010800.nc\"\n",
       " \"free_convection_N128_k1e-4_Float64/convection_75.0_0.01_128_000014400.nc\""
      ]
     },
     "execution_count": 14,
     "metadata": {},
     "output_type": "execute_result"
    }
   ],
   "source": [
    "# Setup\n",
    "directory = \"free_convection_N128_k1e-4_Float64\"\n",
    "prefix = \"convection_\"\n",
    "top_flux = \"75.0_\"\n",
    "bot_grad = \"0.01_\"\n",
    "grid_points = \"128_\"\n",
    "\n",
    "filename(iter) = joinpath(directory, prefix * top_flux * bot_grad * grid_points * lpad(\"$iter\", 9, \"0\") * \".nc\")\n",
    "\n",
    "# Make filenames\n",
    "ndata = 4\n",
    "iters = [i*3600 for i = 1:ndata]\n",
    "times = [iter*6 for iter in iters]\n",
    "filenames = [filename(iter) for iter in iters]"
   ]
  },
  {
   "cell_type": "code",
   "execution_count": 2,
   "metadata": {},
   "outputs": [
    {
     "name": "stdout",
     "output_type": "stream",
     "text": [
      "[\"000000100\", \"000003600\", \"000007200\", \"000010800\"]\n",
      "free_convection_N128_k1e-4_Float64/convection_75.0_0.01_128_000000100.nc\n",
      "free_convection_N128_k1e-4_Float64/convection_75.0_0.01_128_000003600.nc\n",
      "free_convection_N128_k1e-4_Float64/convection_75.0_0.01_128_000007200.nc\n",
      "free_convection_N128_k1e-4_Float64/convection_75.0_0.01_128_000010800.nc\n"
     ]
    }
   ],
   "source": [
    "T_data = Array{Float64, 1}[]\n",
    "\n",
    "T₀ = 273.15\n",
    "\n",
    "for filename in filenames\n",
    "    T = ncread(filenames[i], \"T\") # 3D Oceananigans field\n",
    "    \n",
    "    # Take horizontal mean and convert to Celsius\n",
    "    T_data_i = dropdims(mean(T, dims=[1, 2]), dims=[1, 2]) .- T₀\n",
    "    T_data_i = reverse(T_data_i)\n",
    "    \n",
    "    push!(T_data, T_data_i)\n",
    "end\n",
    "\n",
    "# Get vertical grid\n",
    "z = ncread(filenames[1], \"zC\")"
   ]
  },
  {
   "cell_type": "code",
   "execution_count": null,
   "metadata": {},
   "outputs": [],
   "source": [
    "# Save data\n",
    "processsed_filename = \"processed_data.jld2\"\n",
    "\n",
    "jldopen(filename, \"w\") do file\n",
    "    file[\"z\"] = z\n",
    "    file[\"t_data\"] = times\n",
    "    file[\"T_data\"] = T_data\n",
    "end"
   ]
  }
 ],
 "metadata": {
  "kernelspec": {
   "display_name": "Julia 1.0.1",
   "language": "julia",
   "name": "julia-1.0"
  },
  "language_info": {
   "file_extension": ".jl",
   "mimetype": "application/julia",
   "name": "julia",
   "version": "1.0.1"
  }
 },
 "nbformat": 4,
 "nbformat_minor": 2
}

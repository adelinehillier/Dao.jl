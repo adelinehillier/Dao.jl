{
 "cells": [
  {
   "cell_type": "code",
   "execution_count": 26,
   "metadata": {},
   "outputs": [
    {
     "name": "stdout",
     "output_type": "stream",
     "text": [
      "\u001b[32m\u001b[1m  Updating\u001b[22m\u001b[39m registry at `~/.julia/registries/General`\n",
      "\u001b[32m\u001b[1m  Updating\u001b[22m\u001b[39m git-repo `https://github.com/JuliaRegistries/General.git`\n",
      "\u001b[?25l\u001b[2K\u001b[?25h"
     ]
    }
   ],
   "source": [
    "using Pkg; Pkg.activate(\"..\"); Pkg.instantiate()\n",
    "\n",
    "using OceanTurb, Printf, JLD2"
   ]
  },
  {
   "cell_type": "code",
   "execution_count": 52,
   "metadata": {},
   "outputs": [
    {
     "name": "stdout",
     "output_type": "stream",
     "text": [
      "z = -25.0:-25.0:-100.0\n",
      "typeof(T_data) = Array{Array{Float64,1},1}\n"
     ]
    },
    {
     "data": {
      "text/plain": [
       "Array{Array{Float64,1},1}"
      ]
     },
     "execution_count": 52,
     "metadata": {},
     "output_type": "execute_result"
    }
   ],
   "source": [
    "# Create fake grid\n",
    "N = 4\n",
    "L = 100.0\n",
    "Δ = L/N\n",
    "z = range(-Δ, step=-Δ, length=N) # using Oceananigans convention\n",
    "T0 = 20 .- 0.01*z\n",
    "\n",
    "# Generate synthetic data\n",
    "ndata = 3\n",
    "T_les = [T0 + 0.001*rand(N) for i=1:ndata]\n",
    "\n",
    "# Reverse indices to match OceanTurb convention\n",
    "T_data = [reverse(T_les[i]) for i=1:ndata]\n",
    "t_data = [Float64(i) for i=1:ndata]; # fake time data"
   ]
  },
  {
   "cell_type": "code",
   "execution_count": 50,
   "metadata": {},
   "outputs": [
    {
     "data": {
      "text/plain": [
       "3-element Array{Array{Float64,1},1}:\n",
       " [21.0009, 20.7505, 20.5002, 20.2507]\n",
       " [21.0006, 20.7509, 20.5004, 20.2503]\n",
       " [21.0009, 20.7507, 20.5002, 20.2506]"
      ]
     },
     "execution_count": 50,
     "metadata": {},
     "output_type": "execute_result"
    }
   ],
   "source": [
    "# Save data\n",
    "filename = \"testdata.jld2\"\n",
    "isfile(filename) && rm(filename) # remove file if it already exists\n",
    "\n",
    "jldopen(filename, \"w\") do file\n",
    "    file[\"t_data\"] = t_data\n",
    "    file[\"T_data\"] = T_data\n",
    "end"
   ]
  },
  {
   "cell_type": "code",
   "execution_count": 54,
   "metadata": {},
   "outputs": [
    {
     "name": "stdout",
     "output_type": "stream",
     "text": [
      "file = JLDFile /Users/gregorywagner/Projects/Dao.jl/sandbox/testdata.jld2 (read-only)\n",
      " ├─🔢 t_data\n",
      " └─🔢 T_data\n",
      "typeof(file[\"t_data\"]) = Array{Float64,1}\n",
      "typeof(file[\"T_data\"]) = Array{Array{Float64,1},1}\n",
      "typeof(loaded_data[1]) = Array{Float64,1}\n",
      "loaded_data[1] = [21.0009, 20.7505, 20.5002, 20.2507]\n",
      "loaded_data[2] = [21.0006, 20.7509, 20.5004, 20.2503]\n",
      "loaded_data[3] = [21.0009, 20.7507, 20.5002, 20.2506]\n"
     ]
    }
   ],
   "source": [
    "# Open file and look at it\n",
    "file = jldopen(filename, \"r\")\n",
    "\n",
    "@show file\n",
    "\n",
    "@show typeof(file[\"t_data\"]) typeof(file[\"T_data\"])\n",
    "\n",
    "loaded_data = file[\"T_data\"]\n",
    "@show typeof(loaded_data[1])\n",
    "\n",
    "close(file)\n",
    "\n",
    "@show loaded_data[1]\n",
    "@show loaded_data[2]\n",
    "@show loaded_data[3];"
   ]
  },
  {
   "cell_type": "code",
   "execution_count": null,
   "metadata": {},
   "outputs": [],
   "source": []
  },
  {
   "cell_type": "code",
   "execution_count": null,
   "metadata": {},
   "outputs": [],
   "source": []
  }
 ],
 "metadata": {
  "kernelspec": {
   "display_name": "Julia 1.0.1",
   "language": "julia",
   "name": "julia-1.0"
  },
  "language_info": {
   "file_extension": ".jl",
   "mimetype": "application/julia",
   "name": "julia",
   "version": "1.0.1"
  }
 },
 "nbformat": 4,
 "nbformat_minor": 2
}
